{
 "cells": [
  {
   "cell_type": "markdown",
   "metadata": {},
   "source": [
    "Type Hint #Dica\n",
    "\n",
    "Tipagem dinâmica - No python, não precisa tipar a váriavel. A tipagem é feita por inferência/ em tempo de execução.\n",
    "\n",
    "No entanto, é opcional. \n",
    "\n",
    "!Não substitui as validações.!\n"
   ]
  },
  {
   "cell_type": "code",
   "execution_count": null,
   "metadata": {},
   "outputs": [],
   "source": [
    "#Exemplo:\n",
    "\n",
    "idade: int = 30\n",
    "altura: float = 1.75\n",
    "nome: str = \"Alice\"\n",
    "is_estudante: bool = True"
   ]
  },
  {
   "cell_type": "code",
   "execution_count": null,
   "metadata": {},
   "outputs": [],
   "source": [
    "#Refatorando\n",
    "\n",
    "nome_valido: bool = False\n",
    "salario_valido: bool = False\n",
    "bonus_valido: bool = False\n",
    "\n",
    "while not nome_valido:\n",
    "    try:\n",
    "        nome: str = input(\"Digite seu nome: \")\n",
    "\n",
    "        # Verifica se o nome está vazio\n",
    "        if len(nome) == 0:\n",
    "            raise ValueError(\"O nome não pode estar vazio.\")\n",
    "        # Verifica se há números no nome\n",
    "        elif any(char.isdigit() for char in nome):\n",
    "            raise ValueError(\"O nome não deve conter números.\")\n",
    "        else:\n",
    "            print(\"Nome válido:\", nome)\n",
    "            nome_valido = True\n",
    "    except ValueError as e:\n",
    "        print(e)\n",
    "\n",
    "# Solicita ao usuário que digite o valor do seu salário e converte para float\n",
    "\n",
    "try:\n",
    "    salario: float = float(input(\"Digite o valor do seu salário: \"))\n",
    "    if salario < 0:\n",
    "        print(\"Por favor, digite um valor positivo para o salário.\")\n",
    "except ValueError:\n",
    "    print(\"Entrada inválida para o salário. Por favor, digite um número.\")\n",
    "    exit()\n",
    "\n",
    "# Solicita ao usuário que digite o valor do bônus recebido e converte para float\n",
    "try:\n",
    "    bonus: float = float(input(\"Digite o valor do bônus recebido: \"))\n",
    "    if bonus < 0:\n",
    "        print(\"Por favor, digite um valor positivo para o bônus.\")\n",
    "except ValueError:\n",
    "    print(\"Entrada inválida para o bônus. Por favor, digite um número.\")\n",
    "    exit()\n",
    "\n",
    "bonus_recebido = 1000 + salario * bonus  # Exemplo simples de KPI\n",
    "\n",
    "# Imprime as informações para o usuário\n",
    "print(f\"{nome}, seu salário é R${salario:.2f} e seu bônus final é R${bonus_recebido:.2f}.\")"
   ]
  },
  {
   "cell_type": "markdown",
   "metadata": {},
   "source": [
    "Tipos complexos = List // Dict\n",
    "\n",
    "É possível atribuir os tipos primitivos"
   ]
  },
  {
   "cell_type": "code",
   "execution_count": 2,
   "metadata": {},
   "outputs": [
    {
     "name": "stdout",
     "output_type": "stream",
     "text": [
      "['Sapato', 'Camiseta', 'Calça']\n"
     ]
    }
   ],
   "source": [
    "#List\n",
    "\n",
    "produto: str = \"Sapato\"\n",
    "produto_2: str = \"Camiseta\"\n",
    "produto_3: str = \"Calça\"\n",
    "\n",
    "produtos: list = []\n",
    "\n",
    "produtos.append(produto)\n",
    "produtos.append(produto_2)\n",
    "produtos.append(produto_3)\n",
    "\n",
    "print(produtos)\n",
    "\n"
   ]
  },
  {
   "cell_type": "code",
   "execution_count": 3,
   "metadata": {},
   "outputs": [
    {
     "data": {
      "text/plain": [
       "'Calça'"
      ]
     },
     "execution_count": 3,
     "metadata": {},
     "output_type": "execute_result"
    }
   ],
   "source": [
    "#Retira o último produto adicionado\n",
    "produtos.pop()"
   ]
  },
  {
   "cell_type": "code",
   "execution_count": 5,
   "metadata": {},
   "outputs": [
    {
     "name": "stdout",
     "output_type": "stream",
     "text": [
      "[{'nome': 'sapato', 'quantidade': 39, 'preco': 10.38, 'disponibilidade': True}, {'nome': 'televisao', 'quantidade': 10, 'preco': 700.38, 'disponibilidade': False}]\n"
     ]
    }
   ],
   "source": [
    "#Dict -> chave-valor\n",
    "\n",
    "import json\n",
    "\n",
    "produto = {\n",
    "    \"nome\":\"sapato\",\n",
    "    \"quantidade\":39,\n",
    "    \"preco\":10.38,\n",
    "    \"disponibilidade\": True\n",
    "}\n",
    "\n",
    "produto_2 = {\n",
    "    \"nome\":\"televisao\",\n",
    "    \"quantidade\":10,\n",
    "    \"preco\":700.38,\n",
    "    \"disponibilidade\": False\n",
    "}\n",
    "\n",
    "carrinho: list =[]\n",
    "carrinho.append(produto)\n",
    "carrinho.append(produto_2)\n",
    "\n",
    "carrinho_json = json.dumps(carrinho)\n",
    "\n",
    "print (carrinho)"
   ]
  },
  {
   "cell_type": "markdown",
   "metadata": {},
   "source": [
    "Trabalhando com arquivos\n",
    "\n",
    "*Api - São funções em que se utiliza parâmetros"
   ]
  },
  {
   "cell_type": "code",
   "execution_count": 7,
   "metadata": {},
   "outputs": [
    {
     "name": "stdout",
     "output_type": "stream",
     "text": [
      "[{'Nome': 'Detergente Líquido', 'Quantidade': '15', 'Preço (R$)': '4.50', 'Disponibilidade': 'True'}, {'Nome': 'Esponja de Cozinha', 'Quantidade': '30', 'Preço (R$)': '2.00', 'Disponibilidade': 'True'}, {'Nome': 'Sabão em Pó', 'Quantidade': '10', 'Preço (R$)': '12.90', 'Disponibilidade': 'False'}, {'Nome': 'Amaciante', 'Quantidade': '8', 'Preço (R$)': '9.70', 'Disponibilidade': 'True'}, {'Nome': 'Desinfetante', 'Quantidade': '20', 'Preço (R$)': '5.60', 'Disponibilidade': 'True'}, {'Nome': 'Papel Toalha', 'Quantidade': '25', 'Preço (R$)': '7.50', 'Disponibilidade': 'True'}, {'Nome': 'Lustra Móveis', 'Quantidade': '12', 'Preço (R$)': '10.20', 'Disponibilidade': 'False'}, {'Nome': 'Vassoura', 'Quantidade': '18', 'Preço (R$)': '15.00', 'Disponibilidade': 'True'}, {'Nome': 'Rodo', 'Quantidade': '22', 'Preço (R$)': '14.50', 'Disponibilidade': 'True'}, {'Nome': 'Pano de Chão', 'Quantidade': '50', 'Preço (R$)': '3.80', 'Disponibilidade': 'True'}, {'Nome': 'Escova de Banheiro', 'Quantidade': '9', 'Preço (R$)': '8.90', 'Disponibilidade': 'False'}, {'Nome': 'Sabonete Líquido', 'Quantidade': '16', 'Preço (R$)': '5.20', 'Disponibilidade': 'True'}, {'Nome': 'Água Sanitária', 'Quantidade': '14', 'Preço (R$)': '3.30', 'Disponibilidade': 'True'}, {'Nome': 'Inseticida', 'Quantidade': '5', 'Preço (R$)': '18.00', 'Disponibilidade': 'False'}, {'Nome': 'Velas Aromáticas', 'Quantidade': '28', 'Preço (R$)': '6.90', 'Disponibilidade': 'True'}, {'Nome': 'Esfregão', 'Quantidade': '7', 'Preço (R$)': '12.50', 'Disponibilidade': 'True'}, {'Nome': 'Saco de Lixo', 'Quantidade': '60', 'Preço (R$)': '8.40', 'Disponibilidade': 'True'}, {'Nome': 'Multiuso Limpeza', 'Quantidade': '35', 'Preço (R$)': '4.90', 'Disponibilidade': 'True'}, {'Nome': 'Desengordurante', 'Quantidade': '13', 'Preço (R$)': '8.70', 'Disponibilidade': 'False'}, {'Nome': 'Limpador de Vidros', 'Quantidade': '11', 'Preço (R$)': '6.80', 'Disponibilidade': 'True'}]\n"
     ]
    }
   ],
   "source": [
    "import csv\n",
    "\n",
    "caminho_do_arquivo: str = \"arquivo-aula4.csv\"\n",
    "\n",
    "arquivo_csv: list = []\n",
    "\n",
    "with open(file=caminho_do_arquivo, mode=\"r\", encoding='utf-8') as dados_extraidos:\n",
    "    leitor_csv = csv.DictReader(dados_extraidos)\n",
    "    \n",
    "    for linha in leitor_csv:\n",
    "        arquivo_csv.append(linha)\n",
    "        \n",
    "print(arquivo_csv)\n"
   ]
  },
  {
   "cell_type": "code",
   "execution_count": null,
   "metadata": {},
   "outputs": [],
   "source": []
  },
  {
   "cell_type": "markdown",
   "metadata": {},
   "source": []
  }
 ],
 "metadata": {
  "kernelspec": {
   "display_name": "Python 3",
   "language": "python",
   "name": "python3"
  },
  "language_info": {
   "codemirror_mode": {
    "name": "ipython",
    "version": 3
   },
   "file_extension": ".py",
   "mimetype": "text/x-python",
   "name": "python",
   "nbconvert_exporter": "python",
   "pygments_lexer": "ipython3",
   "version": "3.12.5"
  }
 },
 "nbformat": 4,
 "nbformat_minor": 2
}
