{
 "cells": [
  {
   "cell_type": "markdown",
   "metadata": {},
   "source": [
    "Try/Except"
   ]
  },
  {
   "cell_type": "code",
   "execution_count": null,
   "metadata": {},
   "outputs": [],
   "source": [
    "# Exemplo que causa TypeError\n",
    "try:\n",
    "    resultado = len(3)\n",
    "except TypeError as e:\n",
    "    print(e) #Imprime a mensagem de erro"
   ]
  },
  {
   "cell_type": "code",
   "execution_count": null,
   "metadata": {},
   "outputs": [],
   "source": [
    "# Exemplo que causa TypeError\n",
    "try:\n",
    "    resultado = len(\"Mariana\")\n",
    "except TypeError as e:\n",
    "    print(e) #Imprime a mensagem de erro\n",
    "else: \n",
    "    print(\"Tudo ocorreu bem\")"
   ]
  },
  {
   "cell_type": "code",
   "execution_count": null,
   "metadata": {},
   "outputs": [],
   "source": [
    "try:\n",
    "    resultado = len(\"Mariana\")\n",
    "except TypeError as e:\n",
    "    print(e) #Imprime a mensagem de erro\n",
    "else: \n",
    "    print(\"Tudo ocorreu bem\")\n",
    "finally:\n",
    "    print(\"O importante é participar\")"
   ]
  }
 ],
 "metadata": {
  "language_info": {
   "name": "python"
  }
 },
 "nbformat": 4,
 "nbformat_minor": 2
}
