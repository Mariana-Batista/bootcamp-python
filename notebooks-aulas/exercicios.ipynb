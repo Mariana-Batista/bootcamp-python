{
 "cells": [
  {
   "cell_type": "markdown",
   "metadata": {},
   "source": [
    "Inteiros (int)\n",
    "Escreva um programa que soma dois números inteiros inseridos pelo usuário."
   ]
  },
  {
   "cell_type": "code",
   "execution_count": 2,
   "metadata": {},
   "outputs": [
    {
     "name": "stdout",
     "output_type": "stream",
     "text": [
      "11\n"
     ]
    }
   ],
   "source": [
    "numero1 = int(input(\"Digite um nº inteiro: \"))\n",
    "numero2 = int(input(\"Digite um nº inteiro: \"))\n",
    "print(numero1 + numero2)"
   ]
  },
  {
   "cell_type": "markdown",
   "metadata": {},
   "source": [
    "Crie um programa que receba um número do usuário e calcule o resto da divisão desse número por 5."
   ]
  },
  {
   "cell_type": "code",
   "execution_count": 3,
   "metadata": {},
   "outputs": [
    {
     "name": "stdout",
     "output_type": "stream",
     "text": [
      "0\n"
     ]
    }
   ],
   "source": [
    "numero = int(input(\"Digite um nº inteiro: \"))\n",
    "print(numero%5)"
   ]
  },
  {
   "cell_type": "markdown",
   "metadata": {},
   "source": [
    "Desenvolva um programa que multiplique dois números fornecidos pelo usuário e mostre o resultado."
   ]
  },
  {
   "cell_type": "code",
   "execution_count": 4,
   "metadata": {},
   "outputs": [
    {
     "name": "stdout",
     "output_type": "stream",
     "text": [
      "72\n"
     ]
    }
   ],
   "source": [
    "numero1 = int(input(\"Digite um nº inteiro: \"))\n",
    "numero2 = int(input(\"Digite um nº inteiro: \"))\n",
    "print(numero1 * numero2)"
   ]
  },
  {
   "cell_type": "markdown",
   "metadata": {},
   "source": [
    "Você está analisando um conjunto de dados de vendas e precisa garantir que todos os registros tenham valores positivos para quantidade e preço. Escreva um programa que verifique esses campos e imprima \"Dados válidos\" se ambos forem positivos ou \"Dados inválidos\" caso contrário."
   ]
  },
  {
   "cell_type": "code",
   "execution_count": 1,
   "metadata": {},
   "outputs": [
    {
     "name": "stdout",
     "output_type": "stream",
     "text": [
      "Dados válidos\n"
     ]
    }
   ],
   "source": [
    "quantidade = int(input(\"Digite a quantidade de itens: \"))\n",
    "preco = float(input(\"Digite o valor do item: \"))\n",
    "\n",
    "if quantidade > 0 and preco > 0:\n",
    "    print(\"Dados válidos\")\n",
    "else:\n",
    "    print(\"Dados inválidos\")"
   ]
  },
  {
   "cell_type": "markdown",
   "metadata": {},
   "source": [
    "Crie um dicionário para armazenar informações de um livro, incluindo título, autor e ano de publicação. Imprima cada informação."
   ]
  },
  {
   "cell_type": "code",
   "execution_count": 4,
   "metadata": {},
   "outputs": [
    {
     "name": "stdout",
     "output_type": "stream",
     "text": [
      "('titulo', 'Harry Potter e Câmara Secreta')\n",
      "('autor', 'J. K. Rowling')\n",
      "('ano_da_publicacao', 2002)\n"
     ]
    }
   ],
   "source": [
    "from typing import Dict, Any\n",
    "\n",
    "livro: Dict[str, Any] = {\n",
    "    \"titulo\": \"Harry Potter e Câmara Secreta\",\n",
    "    \"autor\": \"J. K. Rowling\",\n",
    "    \"ano_da_publicacao\": 2002\n",
    "}\n",
    "\n",
    "lista_de_elementos: list = livro.items()\n",
    "for elemento in lista_de_elementos:\n",
    "    print(elemento)\n",
    "\n"
   ]
  }
 ],
 "metadata": {
  "kernelspec": {
   "display_name": "Python 3",
   "language": "python",
   "name": "python3"
  },
  "language_info": {
   "codemirror_mode": {
    "name": "ipython",
    "version": 3
   },
   "file_extension": ".py",
   "mimetype": "text/x-python",
   "name": "python",
   "nbconvert_exporter": "python",
   "pygments_lexer": "ipython3",
   "version": "3.12.5"
  }
 },
 "nbformat": 4,
 "nbformat_minor": 2
}
