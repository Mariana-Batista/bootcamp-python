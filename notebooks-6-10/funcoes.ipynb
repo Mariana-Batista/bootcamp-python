{
 "cells": [
  {
   "cell_type": "markdown",
   "metadata": {},
   "source": [
    "Funções"
   ]
  },
  {
   "cell_type": "code",
   "execution_count": 12,
   "metadata": {},
   "outputs": [
    {
     "name": "stdout",
     "output_type": "stream",
     "text": [
      "19.4\n"
     ]
    }
   ],
   "source": [
    "x:float = 10.5\n",
    "y:float = 8.9\n",
    "\n",
    "def calculadora (valor1:float, valor2:float) -> float:\n",
    "    soma = valor1 + valor2\n",
    "    return soma\n",
    "\n",
    "valor3 = calculadora(x, y)\n",
    "print(valor3)"
   ]
  },
  {
   "cell_type": "markdown",
   "metadata": {},
   "source": [
    "Análise de Vendas de Produtos Objetivo: Dado um arquivo CSV contendo dados de vendas de produtos, o desafio consiste em ler os dados, processá-los em um dicionário para análise e, por fim, calcular e reportar as vendas totais por categoria de produto."
   ]
  },
  {
   "cell_type": "code",
   "execution_count": 14,
   "metadata": {},
   "outputs": [],
   "source": [
    "import csv"
   ]
  },
  {
   "cell_type": "code",
   "execution_count": 22,
   "metadata": {},
   "outputs": [
    {
     "name": "stdout",
     "output_type": "stream",
     "text": [
      "[{'Nome': 'Detergente Líquido', 'Quantidade': '15', 'Preço (R$)': '4.50', 'Disponibilidade': 'True'}, {'Nome': 'Esponja de Cozinha', 'Quantidade': '30', 'Preço (R$)': '2.00', 'Disponibilidade': 'True'}, {'Nome': 'Sabão em Pó', 'Quantidade': '10', 'Preço (R$)': '12.90', 'Disponibilidade': 'False'}, {'Nome': 'Amaciante', 'Quantidade': '8', 'Preço (R$)': '9.70', 'Disponibilidade': 'True'}, {'Nome': 'Desinfetante', 'Quantidade': '20', 'Preço (R$)': '5.60', 'Disponibilidade': 'True'}, {'Nome': 'Papel Toalha', 'Quantidade': '25', 'Preço (R$)': '7.50', 'Disponibilidade': 'True'}, {'Nome': 'Lustra Móveis', 'Quantidade': '12', 'Preço (R$)': '10.20', 'Disponibilidade': 'False'}, {'Nome': 'Vassoura', 'Quantidade': '18', 'Preço (R$)': '15.00', 'Disponibilidade': 'True'}, {'Nome': 'Rodo', 'Quantidade': '22', 'Preço (R$)': '14.50', 'Disponibilidade': 'True'}, {'Nome': 'Pano de Chão', 'Quantidade': '50', 'Preço (R$)': '3.80', 'Disponibilidade': 'True'}, {'Nome': 'Escova de Banheiro', 'Quantidade': '9', 'Preço (R$)': '8.90', 'Disponibilidade': 'False'}, {'Nome': 'Sabonete Líquido', 'Quantidade': '16', 'Preço (R$)': '5.20', 'Disponibilidade': 'True'}, {'Nome': 'Água Sanitária', 'Quantidade': '14', 'Preço (R$)': '3.30', 'Disponibilidade': 'True'}, {'Nome': 'Inseticida', 'Quantidade': '5', 'Preço (R$)': '18.00', 'Disponibilidade': 'False'}, {'Nome': 'Velas Aromáticas', 'Quantidade': '28', 'Preço (R$)': '6.90', 'Disponibilidade': 'True'}, {'Nome': 'Esfregão', 'Quantidade': '7', 'Preço (R$)': '12.50', 'Disponibilidade': 'True'}, {'Nome': 'Saco de Lixo', 'Quantidade': '60', 'Preço (R$)': '8.40', 'Disponibilidade': 'True'}, {'Nome': 'Multiuso Limpeza', 'Quantidade': '35', 'Preço (R$)': '4.90', 'Disponibilidade': 'True'}, {'Nome': 'Desengordurante', 'Quantidade': '13', 'Preço (R$)': '8.70', 'Disponibilidade': 'False'}, {'Nome': 'Limpador de Vidros', 'Quantidade': '11', 'Preço (R$)': '6.80', 'Disponibilidade': 'True'}]\n"
     ]
    }
   ],
   "source": [
    "arquivo_dados = \"data.csv\"\n",
    "\n",
    "\"\"\"\n",
    "Função para ler arquivo csv \n",
    "e retornar um dicionário\n",
    "\"\"\"\n",
    "\n",
    "def ler_csv(arquivo_dados: str) -> list[dict]:\n",
    "    \n",
    "    dados:list = []\n",
    "    \n",
    "    with open(arquivo_dados, mode=\"r\", encoding=\"utf-8\") as arquivo:\n",
    "        leitor = csv.DictReader(arquivo)\n",
    "        for linha in leitor:\n",
    "            dados.append(linha)\n",
    "    return dados\n",
    "\n",
    "itens = list[dict]\n",
    "itens = ler_csv(arquivo_dados)\n",
    "print(itens)"
   ]
  },
  {
   "cell_type": "code",
   "execution_count": 23,
   "metadata": {},
   "outputs": [
    {
     "name": "stdout",
     "output_type": "stream",
     "text": [
      "[]\n"
     ]
    }
   ],
   "source": [
    "def filtrar_produtos_nao_disponiveis(itens:list[dict]) -> list[dict]:\n",
    "    \n",
    "    \"\"\"\n",
    "    Função para filtrar produtos disponíveis = True\n",
    "    \"\"\"\n",
    "    lista_com_produtos_filtrados = []\n",
    "    for produto in itens:\n",
    "        if produto.get('Disponibilidade') == 'True':\n",
    "            lista_com_produtos_filtrados.append(produto)\n",
    "    return lista_com_produtos_filtrados\n",
    "\n",
    "lista_de_produtos = ler_csv(arquivo_dados)\n",
    "produtos_disponiveis = filtrar_produtos_nao_disponiveis(lista_de_produtos)\n",
    "print(produtos_disponiveis)\n",
    "            \n",
    "    "
   ]
  },
  {
   "cell_type": "code",
   "execution_count": null,
   "metadata": {},
   "outputs": [],
   "source": []
  }
 ],
 "metadata": {
  "kernelspec": {
   "display_name": "Python 3",
   "language": "python",
   "name": "python3"
  },
  "language_info": {
   "codemirror_mode": {
    "name": "ipython",
    "version": 3
   },
   "file_extension": ".py",
   "mimetype": "text/x-python",
   "name": "python",
   "nbconvert_exporter": "python",
   "pygments_lexer": "ipython3",
   "version": "3.12.5"
  }
 },
 "nbformat": 4,
 "nbformat_minor": 2
}
